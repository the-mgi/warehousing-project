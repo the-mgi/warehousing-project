{
 "cells": [
  {
   "cell_type": "code",
   "execution_count": 1,
   "metadata": {
    "collapsed": true
   },
   "outputs": [],
   "source": [
    "import json\n",
    "from requests_html import HTML\n",
    "from selenium import webdriver"
   ]
  },
  {
   "cell_type": "code",
   "execution_count": null,
   "outputs": [],
   "source": [
    "\"\"\"\n",
    "steps\n",
    "    => at first write the script to scrape all the data that is displayed as in the step (4)\n",
    "    1. get the total number of links available in the database\n",
    "    2. divide the total number of links into 10 partition, because i'll make 10 threads\n",
    "        -> total number of threads required -> math.ceil\n",
    "    3. calculate the ranges for each thread\n",
    "        -> val = math.ceil(records per thread / total number of threads)\n",
    "        -> count = 0\n",
    "        -> [count * (val + 1), (count + 1) * val]\n",
    "    4. run 10 different threads, and for each thread\n",
    "        -> get the following product details:\n",
    "            => title\n",
    "            => price in dollars (convert the price in dollars using alphavantage)\n",
    "            => price in pkr\n",
    "            => installments available\n",
    "            => total number of people rated\n",
    "            => ratings obtained like 4.5\n",
    "            => home delivery charges\n",
    "            => home delivery estimated time\n",
    "            => last updated\n",
    "            => store data like who is selling the product\n",
    "            => warranty\n",
    "            => authenticity\n",
    "            => return policy\n",
    "            => storage options available\n",
    "            => colors available\n",
    "            => is available in stock\n",
    "            => brand data\n",
    "            => get all specification in the bottom\n",
    "            => get all links to the images that are displayed above\n",
    "\n",
    "\n",
    "optionals\n",
    "    => download the images, perform machine learning on those images, give them score and store them\n",
    "\n",
    "additionals\n",
    "    => just get the data first of all sorts, then will perform cleaning operations like specifications\n",
    "    => there will be one json for each sub_category\n",
    "    => and will be scraped as per the sub_categories\n",
    "\n",
    "\"\"\""
   ],
   "metadata": {
    "collapsed": false,
    "pycharm": {
     "name": "#%%\n"
    }
   }
  }
 ],
 "metadata": {
  "kernelspec": {
   "display_name": "Python 3",
   "language": "python",
   "name": "python3"
  },
  "language_info": {
   "codemirror_mode": {
    "name": "ipython",
    "version": 2
   },
   "file_extension": ".py",
   "mimetype": "text/x-python",
   "name": "python",
   "nbconvert_exporter": "python",
   "pygments_lexer": "ipython2",
   "version": "2.7.6"
  }
 },
 "nbformat": 4,
 "nbformat_minor": 0
}