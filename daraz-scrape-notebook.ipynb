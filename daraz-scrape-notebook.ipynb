{
 "cells": [
  {
   "cell_type": "code",
   "execution_count": null,
   "metadata": {},
   "outputs": [],
   "source": [
    "from selenium import webdriver\n",
    "from requests_html import HTML\n",
    "import json\n",
    "import requests"
   ]
  },
  {
   "cell_type": "code",
   "execution_count": null,
   "metadata": {},
   "outputs": [],
   "source": [
    "browser = webdriver.Chrome()"
   ]
  },
  {
   "cell_type": "code",
   "execution_count": 4,
   "metadata": {},
   "outputs": [],
   "source": [
    "\n",
    "#\n",
    "# def get_complete_obj_links():\n",
    "#     all_categories_list = [\n",
    "#         {\"electronics-devices\": ['smartphones', 'featurephones', 'corded-phones', 'desktop-computer', 'laptops', 'smart-watches', 'gaming-consoles', 'tablets', 'dslr-hybrid-cameras', 'security-cameras']},\n",
    "#         {\"mens-fashion\": ['mens-t-shirts', 'mens-pants-trousers', 'mens-shoes', 'mens-traditional-clothing', 'fashion-boys-accessories']},\n",
    "#         {\"sports-and-outdoors\": ['exercise-fitness', 'fitness-gadgets', 'outdoor-activities', 'sports-outdoors-accessories', 'team-sports']},\n",
    "#         {\"health-and-beauty\": ['bath-body', 'health-beauty-tools', 'fragrances', 'hair-care', 'skincare']},\n",
    "#         {\"home-and-lifestyle\": ['bath', 'bedding-2', 'home-decoration', 'furniture', 'kitchen-dining']}\n",
    "#     ]\n",
    "#     for single_category in all_categories_list:\n",
    "#         name_cats = single_category.keys()\n",
    "#         for single_cat in name_cats:\n",
    "#             sub_cats = single_category[single_cat]\n",
    "#             obj = dict()\n",
    "#             for i in sub_cats:\n",
    "#                 try:\n",
    "#                     list_got = main_function(i)\n",
    "#                     obj[i] = list_got\n",
    "#                 except:\n",
    "#                     return final_object\n",
    "#             final_object[single_cat] = obj\n",
    "#     return final_object\n",
    "#\n",
    "# def write_object_to_json():\n",
    "#     obj_got = get_complete_obj_links()\n",
    "#     with open ('input-links-products.json', 'w', encoding=\"utf-8\") as file_:\n",
    "#         json.dump(obj_got, file_, ensure_ascii=False)\n",
    "#\n",
    "# write_object_to_json()\n",
    "def f():\n",
    "    l = [\n",
    "\t\t\t\"mens-watches\",\n",
    "\t\t\t\"womens-watches\",\n",
    "\t\t\t\"kids-watches-wsj\",\n",
    "\t\t\t\"womens-bags\",\n",
    "\t\t\t\"mens-bags\",\n",
    "\t\t\t\"travels\",\n",
    "\t\t\t\"womens-jewellery\",\n",
    "\t\t\t\"mens-jewellery\",\n",
    "\t\t\t\"men-accessories\",\n",
    "\t\t\t\"womens-accessories\",\n",
    "\t\t\t\"sunglasses\"\n",
    "\t\t]\n",
    "    for i in l:\n",
    "        from selenium import webdriver\n",
    "        from requests_html import HTML\n",
    "        import json\n",
    "        import requests\n",
    "        browser = webdriver.Chrome()\n",
    "        final_object = dict()\n",
    "\n",
    "        def get_total_number_of_pages():\n",
    "            ul = browser.find_element_by_class_name(\"ant-pagination\")\n",
    "            lis = ul.find_elements_by_class_name(\"ant-pagination-item\")\n",
    "            return int(lis.pop().get_attribute(\"title\"))\n",
    "\n",
    "        def main_function(sub_link):\n",
    "            base_url_preserve = f'https://www.daraz.pk/{sub_link}/'\n",
    "            final_list = []\n",
    "            browser.get(base_url_preserve)\n",
    "            total_number_of_pages = get_total_number_of_pages()\n",
    "            for i in range(1, total_number_of_pages + 1):\n",
    "                base_url_page = f'{base_url_preserve}?page={i}'\n",
    "                browser.get(base_url_page)\n",
    "                all_products = browser.find_element_by_class_name('c1_t2i')\n",
    "                all_products_html = HTML(html=all_products.get_attribute('innerHTML'))\n",
    "                all_products_links = all_products_html.find('div[class=\"c2prKC\"]')\n",
    "                for single_product_link in all_products_links:\n",
    "                    single_link_a_tag = single_product_link.find('a');\n",
    "                    single_link_a_tag = single_link_a_tag[0].attrs['href']\n",
    "                    final_list.append(single_link_a_tag)\n",
    "            # print(f'{sub_link} done!')\n",
    "            return final_list\n",
    "        list_got_ = main_function(i)\n",
    "        with open (f'{i}.json', 'w', encoding=\"utf-8\") as file_:\n",
    "            json.dump(list_got_, file_, ensure_ascii=False)\n",
    "            \n",
    "f()"
   ]
  },
  {
   "cell_type": "code",
   "execution_count": null,
   "metadata": {},
   "outputs": [],
   "source": [
    "browser.delete_all_cookies()"
   ]
  },
  {
   "cell_type": "code",
   "execution_count": null,
   "metadata": {
    "pycharm": {
     "name": "#%%\n"
    }
   },
   "outputs": [],
   "source": [
    "# with open ('input-links-products.json', 'w', encoding=\"utf-8\") as file_:\n",
    "#         json.dump(obj_got, file_, ensure_ascii=False)"
   ]
  }
 ],
 "metadata": {
  "kernelspec": {
   "display_name": "Python 3",
   "language": "python",
   "name": "python3"
  },
  "language_info": {
   "codemirror_mode": {
    "name": "ipython",
    "version": 3
   },
   "file_extension": ".py",
   "mimetype": "text/x-python",
   "name": "python",
   "nbconvert_exporter": "python",
   "pygments_lexer": "ipython3",
   "version": "3.9.1"
  }
 },
 "nbformat": 4,
 "nbformat_minor": 1
}